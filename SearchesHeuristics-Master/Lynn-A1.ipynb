{
 "cells": [
  {
   "cell_type": "markdown",
   "metadata": {},
   "source": [
    "# Assignment 1: Uninformed Search"
   ]
  },
  {
   "cell_type": "markdown",
   "metadata": {},
   "source": [
    "*Michael Lynn*\n",
    "\n",
    "## Overview"
   ]
  },
  {
   "cell_type": "markdown",
   "metadata": {},
   "source": [
    "Breadth-first and depth-first are two algorithms for performing\n",
    "uninformed search---a search that does not use\n",
    "knowledge about the goal of the search.  You will implement both\n",
    "search algorithms in python and test them on a simple graph.  Then you\n",
    "will apply your search algorithms to a puzzle problem of your choice\n",
    "as explained below."
   ]
  },
  {
   "cell_type": "markdown",
   "metadata": {},
   "source": [
    "## Required Code"
   ]
  },
  {
   "cell_type": "markdown",
   "metadata": {},
   "source": [
    "In this jupyter notebook, you must implement at least the following functions:\n",
    "\n",
    "  * `breadthFirstSearch(startState, goalState, successorsf)` \n",
    "  * `depthFirstSearch(startState, goalState, successorsf)`\n",
    "  \n",
    "Each receives as arguments the starting state, the goal state, and a successors function.  `breadthFirstSearch` returns the breadth-first solution path as a list of states starting with the `startState` and ending with the `goalState`.  `depthFirstSearch` returns the depth-first solution path.\n",
    "\n",
    "Demonstrate each one running with a simple graph as shown in the following example.  Test your code on other graphs, but do not include any cycles in your graphs."
   ]
  },
  {
   "cell_type": "markdown",
   "metadata": {},
   "source": [
    "If you prefer to develop your python code in a separate editor or IDE, you may do so.  If it is stored in a file called `A1mysolution.py`, you can use it here by executing the following cell.\n",
    "\n",
    "When your solution works, <font color=\"red\">REMEMBER</font> to remove or comment out the following import statement and instead, paste in all of your function definintions into this notebook."
   ]
  },
  {
   "cell_type": "code",
   "execution_count": 243,
   "metadata": {},
   "outputs": [
    {
     "data": {
      "text/plain": [
       "{'a': ['b', 'c', 'd'],\n",
       " 'b': ['e', 'f', 'g'],\n",
       " 'c': ['a', 'h', 'i'],\n",
       " 'd': ['j', 'z'],\n",
       " 'e': ['k', 'l'],\n",
       " 'g': ['m'],\n",
       " 'k': ['z']}"
      ]
     },
     "execution_count": 243,
     "metadata": {},
     "output_type": "execute_result"
    }
   ],
   "source": [
    "successors = {'a':  ['b', 'c', 'd'],\n",
    "              'b':  ['e', 'f', 'g'],\n",
    "              'c':  ['a', 'h', 'i'],\n",
    "              'd':  ['j', 'z'],\n",
    "              'e':  ['k', 'l'],\n",
    "              'g':  ['m'],\n",
    "              'k':  ['z']}\n",
    "successors"
   ]
  },
  {
   "cell_type": "code",
   "execution_count": 244,
   "metadata": {},
   "outputs": [],
   "source": [
    "import copy\n",
    "\n",
    "def successorsf(state):\n",
    "    return copy.copy(successors.get(state, []))"
   ]
  },
  {
   "cell_type": "code",
   "execution_count": 245,
   "metadata": {},
   "outputs": [
    {
     "data": {
      "text/plain": [
       "['k', 'l']"
      ]
     },
     "execution_count": 245,
     "metadata": {},
     "output_type": "execute_result"
    }
   ],
   "source": [
    "successorsf('e')"
   ]
  },
  {
   "cell_type": "code",
   "execution_count": 246,
   "metadata": {},
   "outputs": [],
   "source": [
    "\n",
    "def dfs(startState, goalState, myFunc, visited, myPath):\n",
    "\n",
    "    parentNode = startState\n",
    "\n",
    "    # add root\n",
    "    myPath.append(parentNode)\n",
    "\n",
    "    if parentNode is goalState:\n",
    "        #print(myPath)\n",
    "        return myPath\n",
    "\n",
    "    else:\n",
    "        if myFunc(parentNode):\n",
    "\n",
    "            for myChild in myFunc(parentNode):\n",
    "\n",
    "                if myChild not in visited:\n",
    "\n",
    "                    # add edge to visited path taken as we traverse down each rabbithole\n",
    "                    visited.append(myChild)\n",
    "                    #print(\"visited \", myChild)\n",
    "                    myCurr = dfs(myChild, goalState, myFunc, visited, myPath)\n",
    "\n",
    "                    if myCurr:\n",
    "\n",
    "                        return myCurr\n",
    "\n",
    "                    else:\n",
    "                        myPath.pop()\n",
    "                        \n",
    "                        \n",
    "def bfs(startState, goalState, myFunc, visited, myPath, queue, bTracklist):\n",
    "\n",
    "   # add root node\n",
    "    queue.append(startState)\n",
    "\n",
    "    while queue:\n",
    "\n",
    "        # move parent node into visited list\n",
    "        parentNode = queue.pop(0)\n",
    "\n",
    "        visited.append(parentNode)\n",
    "\n",
    "        #for key, value in bTracklist.items() :\n",
    "            #print(key, value)\n",
    "\n",
    "        #parent and edges\n",
    "        #print(\"parent node: \" + parentNode)\n",
    "        #print(successorsf(parentNode))\n",
    "        # if parent has edges\n",
    "        if myFunc(parentNode):\n",
    "\n",
    "            # put the children that havent been visited into the queue\n",
    "            for myChild in myFunc(parentNode):\n",
    "\n",
    "                if myChild not in visited:\n",
    "\n",
    "                    queue.append(myChild)\n",
    "\n",
    "                # child becomes parent moving from left to right down the tree\n",
    "                bTracklist[myChild] = parentNode\n",
    "\n",
    "                # if target node found stop searching\n",
    "                if myChild is goalState:\n",
    "                    myCurr = goalState\n",
    "                    #for key, value in bTracklist.items() :\n",
    "                        #print(key, value)\n",
    "                    while myCurr != startState:\n",
    "                        #print(myCurr, \" != \", goalState)\n",
    "                        myPath.insert(0, myCurr)\n",
    "                        #print(myPath)\n",
    "                        myCurr = bTracklist[myCurr]\n",
    "                    myPath.insert(0, myCurr)\n",
    "                    #print(myPath)\n",
    "                    return myPath\n",
    "    return \"Goal not found\"\n",
    "\n",
    "\n",
    "def breadthFirstSearch(startState, goalState, myFunc):\n",
    "    visited = []\n",
    "    myPath = []\n",
    "    queue = []\n",
    "    bTracklist = {}\n",
    "    result = bfs(startState, goalState, myFunc, visited, myPath, queue, bTracklist)\n",
    "    return result\n",
    "    \n",
    "def depthFirstSearch(startState, goalState, myFunc):\n",
    "    visited = []\n",
    "    myPath = []\n",
    "    result = dfs(startState, goalState, myFunc, visited, myPath)\n",
    "    if not result:\n",
    "        return 'Goal not found'\n",
    "    return result"
   ]
  },
  {
   "cell_type": "code",
   "execution_count": 247,
   "metadata": {},
   "outputs": [
    {
     "name": "stdout",
     "output_type": "stream",
     "text": [
      "Breadth-first\n",
      "path from a to a is ['a']\n",
      "path from a to m is ['a', 'b', 'g', 'm']\n",
      "path from a to z is ['a', 'd', 'z']\n"
     ]
    }
   ],
   "source": [
    "print('Breadth-first')\n",
    "print('path from a to a is', breadthFirstSearch('a', 'a', successorsf))\n",
    "print('path from a to m is', breadthFirstSearch('a', 'm', successorsf))\n",
    "print('path from a to z is', breadthFirstSearch('a', 'z', successorsf))"
   ]
  },
  {
   "cell_type": "code",
   "execution_count": 248,
   "metadata": {},
   "outputs": [
    {
     "name": "stdout",
     "output_type": "stream",
     "text": [
      "Depth-first\n",
      "path from a to a is ['a']\n",
      "path from a to m is ['a', 'b', 'g', 'm']\n",
      "path from a to z is ['a', 'b', 'e', 'k', 'z']\n"
     ]
    }
   ],
   "source": [
    "print('Depth-first')\n",
    "print('path from a to a is', depthFirstSearch('a', 'a', successorsf))\n",
    "print('path from a to m is', depthFirstSearch('a', 'm', successorsf))\n",
    "print('path from a to z is', depthFirstSearch('a', 'z', successorsf))"
   ]
  },
  {
   "cell_type": "markdown",
   "metadata": {},
   "source": [
    "# Functions\n",
    "My bfs function explores all of the neighbor nodes at the present depth prior to moving on to the nodes at the next depth level. \n",
    "My dfs function explores the highest-depth nodes first before being forced to backtrack and expand shallower nodes."
   ]
  },
  {
   "cell_type": "markdown",
   "metadata": {},
   "source": [
    "# Observation\n",
    "My search results returned from each of my functions are as expected, with bfs having shorter paths to target my nodes"
   ]
  },
  {
   "cell_type": "markdown",
   "metadata": {},
   "source": [
    "## Grading\n",
    "\n",
    "Your notebook will be run and graded automatically. Download [A1grader.tar](http://www.cs.colostate.edu/~anderson/cs440/notebooks/A1grader.tar)  and extract A1grader.py from it. Run the code in the following cell to demonstrate an example grading session. You should see a perfect score of 80/80 if your functions are defined correctly. \n",
    "\n",
    "The remaining 20% will be based on your writing.  In markdown cells, explain what your functions are doing and make observations about your results.  Also mention problems you encountered in trying to solve this assignment."
   ]
  },
  {
   "cell_type": "code",
   "execution_count": 249,
   "metadata": {},
   "outputs": [
    {
     "name": "stdout",
     "output_type": "stream",
     "text": [
      "\n",
      "======================= Code Execution =======================\n",
      "\n",
      "Extracting python code from notebook named 'Lynn-A1.ipynb' and storing in notebookcode.py\n",
      "Removing all statements that are not function or class defs or import statements.\n",
      "Searching this graph:\n",
      " {'a': ['b'], 'b': ['c', 'd'], 'c': ['e'], 'd': ['f', 'i'], 'e': ['g', 'h', 'i']}\n",
      "\n",
      "Looking for path from a to b.\n",
      "  Calling breadthFirstSearch(a, b, successorsf)\n",
      "      and depthFirstSearch(a, b, successorsf)\n",
      "10/10 points. Your breadthFirstSearch found correct solution path of ['a', 'b']\n",
      "10/10 points. Your depthFirstSearch found correct solution path of ['a', 'b']\n",
      "\n",
      "Looking for path from a to i.\n",
      "  Calling breadthFirstSearch(a, i, successorsf)\n",
      "      and depthFirstSearch(a, i, successorsf)\n",
      "20/20 points. Your breadthFirstSearch found correct solution path of ['a', 'b', 'd', 'i']\n",
      "20/20 points. Your depthFirstSearch found correct solution path of ['a', 'b', 'c', 'e', 'i']\n",
      "\n",
      "Looking for non-existant path from a to denver.\n",
      "  Calling breadthFirstSearch(a, denver, successorsf)\n",
      "      and depthFirstSearch(a, denver, successorsf)\n",
      "10/10 points. Your breadthFirstSearch found correct solution path of Goal not found\n",
      "10/10 points. Your depthFirstSearch found correct solution path of Goal not found\n",
      "\n",
      "C:\\Users\\hailviral1\\Desktop\\cs440 Execution Grade is 80/80\n",
      "\n",
      "======================= Description of Code and Results =======================\n",
      "\n",
      "Up to 20 more points will be given based on the qualty of your descriptions of the method and the results.\n"
     ]
    }
   ],
   "source": [
    "%run -i A1grader.py"
   ]
  },
  {
   "cell_type": "code",
   "execution_count": null,
   "metadata": {},
   "outputs": [],
   "source": []
  }
 ],
 "metadata": {
  "anaconda-cloud": {},
  "kernelspec": {
   "display_name": "Python 3",
   "language": "python",
   "name": "python3"
  },
  "language_info": {
   "codemirror_mode": {
    "name": "ipython",
    "version": 3
   },
   "file_extension": ".py",
   "mimetype": "text/x-python",
   "name": "python",
   "nbconvert_exporter": "python",
   "pygments_lexer": "ipython3",
   "version": "3.6.5"
  }
 },
 "nbformat": 4,
 "nbformat_minor": 1
}
