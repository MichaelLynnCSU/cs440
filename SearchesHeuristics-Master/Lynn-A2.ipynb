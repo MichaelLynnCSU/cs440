{
 "cells": [
  {
   "cell_type": "markdown",
   "metadata": {},
   "source": [
    "\n",
    "# Assignment 2: Iterative-Deepening Search"
   ]
  },
  {
   "cell_type": "markdown",
   "metadata": {},
   "source": [
    "Michael Lynn\n",
    "\n",
    "## Overview"
   ]
  },
  {
   "cell_type": "markdown",
   "metadata": {},
   "source": [
    "Implement the iterative-deepening search algorithm as discussed in our Week 2 lecture notes and as shown in figures 3.17 and 3.18 in our text book. Apply it to the 8-puzzle and a second puzzle of your choice. "
   ]
  },
  {
   "cell_type": "markdown",
   "metadata": {},
   "source": [
    "## Required Code"
   ]
  },
  {
   "cell_type": "markdown",
   "metadata": {},
   "source": [
    "In this jupyter notebook, implement the following functions:\n",
    "\n",
    "  * `iterativeDeepeningSearch(startState, goalState, actionsF, takeActionF, maxDepth)`\n",
    "  * `depthLimitedSearch(startState, goalState, actionsF, takeActionF, depthLimit)`\n",
    "  \n",
    "`depthLimitedSearch` is called by `iterativeDeepeningSearch` with `depthLimit`s of $0, 1, \\ldots, $ `maxDepth`. Both must return either the solution path as a list of states, or the strings `cutoff` or `failure`.  `failure` signifies that all states were searched and the goal was not found. \n",
    "\n",
    "Each receives the arguments\n",
    "\n",
    "  * the starting state, \n",
    "  * the goal state,\n",
    "  * a function `actionsF` that is given a state and returns a list of valid actions from that state,\n",
    "  * a function `takeActionF` that is given a state and an action and returns the new state that results from applying the action to the state,\n",
    "  * either a `depthLimit` for `depthLimitedSearch`, or `maxDepth` for `iterativeDeepeningSearch`."
   ]
  },
  {
   "cell_type": "markdown",
   "metadata": {},
   "source": [
    "Use your solution to solve the 8-puzzle.\n",
    "Implement the state of the puzzle as a list of integers. 0 represents the empty position. \n",
    "\n",
    "Required functions for the 8-puzzle are the following.\n",
    "\n",
    "  * `findBlank_8p(state)`: return the row and column index for the location of the blank (the 0 value).\n",
    "  * `actionsF_8p(state)`: returns a list of up to four valid actions that can be applied in `state`. Return them in the order `left`, `right`, `up`, `down`, though only if each one is a valid action.\n",
    "  * `takeActionF_8p(state, action)`: return the state that results from applying `action` in `state`.\n",
    "  * `printPath_8p(startState, goalState, path)`: print a solution path in a readable form.  You choose the format."
   ]
  },
  {
   "cell_type": "markdown",
   "metadata": {},
   "source": [
    "<font color='red'>Also</font>, implement a second search problem of your choice.  Apply your `iterativeDeepeningSearch` function to it."
   ]
  },
  {
   "cell_type": "markdown",
   "metadata": {},
   "source": [
    "Insert your function definitions in this notebook."
   ]
  },
  {
   "cell_type": "code",
   "execution_count": 13,
   "metadata": {},
   "outputs": [],
   "source": [
    "def printState_8p(startState):\n",
    "    #print(\"printing: \",startState)\n",
    "    newList = startState.copy()\n",
    "    for i, myValue in enumerate(startState):\n",
    "        if myValue == 0:\n",
    "            #print(\"Found empty space defined by a\", myValue)\n",
    "            newList[i] = \"-\"\n",
    "\n",
    "\n",
    "    print(\" \".join(map(str,newList[0:3])))\n",
    "    print(\" \".join(map(str,newList[3:6])))\n",
    "    print(\" \".join(map(str,newList[6:9])))\n",
    "    \n",
    "def printState_15p(startState):\n",
    "\n",
    "    #print(\"printing: \",startState)\n",
    "    newList = startState.copy()\n",
    "    for i, myValue in enumerate(startState):\n",
    "        if myValue == 0:\n",
    "            #print(\"Found empty space defined by a\", myValue)\n",
    "            newList[i] = \"-\"\n",
    "\n",
    "    print(\" \".join(map(str,newList[0:4])))\n",
    "    print(\" \".join(map(str,newList[4:8])))\n",
    "    print(\" \".join(map(str,newList[8:12])))\n",
    "    print(\" \".join(map(str,newList[12:16])))\n",
    "    \n",
    "def findBlank_8p(startState):\n",
    "\n",
    "     # get coord of my current position\n",
    "    xPos = startState.index(0)\n",
    "    yPos = 0\n",
    "\n",
    "    #  row/ col position only works for a 3x3(hard coded)\n",
    "    if xPos >= 0 and xPos <= 2:\n",
    "        #print(\"coorindartes of the empty space are (y,x)\", 0, xPos)\n",
    "        return (yPos, xPos)\n",
    "\n",
    "    if xPos >= 3 and xPos <= 5:\n",
    "        rowOffset = xPos - 3\n",
    "        #print(\"coorindartes of the empty space are (y,x)\",1, rowOffset)\n",
    "        return (yPos + 1, rowOffset)\n",
    "\n",
    "    if xPos >= 6 and xPos <= 8:\n",
    "        rowOffset = xPos - 6\n",
    "        #print(\"coorindartes of the empty space are (y,x)\",2, rowOffset)\n",
    "        return (yPos + 2, rowOffset)   \n",
    "\n",
    "def findBlank_15p(startState):\n",
    "\n",
    "    xPos = startState.index(0)\n",
    "    yPos = 0\n",
    "\n",
    "    if xPos >= 0 and xPos <= 3:\n",
    "        return (yPos, xPos)\n",
    "\n",
    "    if xPos >= 4 and xPos <= 7:\n",
    "        rowOffset = xPos - 4\n",
    "        return (yPos + 1, rowOffset)\n",
    "\n",
    "    if xPos >= 8 and xPos <= 11:\n",
    "        rowOffset = xPos - 8\n",
    "        return (yPos + 2, rowOffset)\n",
    "\n",
    "    if xPos >= 12 and xPos <= 15:\n",
    "        rowOffset = xPos - 12\n",
    "        return (yPos + 3, rowOffset)\n",
    "    \n",
    "def actionsF_8p(startState):\n",
    "    # get coord of my current position\n",
    "    myEmptyCoord = findBlank_8p(startState)\n",
    "    yPos = myEmptyCoord[0]\n",
    "    xPos = myEmptyCoord[1]\n",
    "    myMoves = []\n",
    "\n",
    "    # possible moves from current positionn\n",
    "    if xPos > 0:\n",
    "        myMoves.append(\"left\")\n",
    "\n",
    "    if xPos < 2:\n",
    "        myMoves.append(\"right\")\n",
    "\n",
    "    if yPos > 0:\n",
    "        myMoves.append(\"up\")\n",
    "\n",
    "    if yPos < 2:\n",
    "        myMoves.append(\"down\")\n",
    "\n",
    "    return myMoves\n",
    "\n",
    "\n",
    "def actionsF_15p(startState):\n",
    "    # get coord of my current position\n",
    "    myEmptyCoord = findBlank_15p(startState)\n",
    "    yPos = myEmptyCoord[0]\n",
    "    xPos = myEmptyCoord[1]\n",
    "    myMoves = []\n",
    "\n",
    "    if xPos > 0:\n",
    "        myMoves.append(\"left\")\n",
    "\n",
    "    if xPos < 3:\n",
    "        myMoves.append(\"right\")\n",
    "\n",
    "    if yPos > 0:\n",
    "        myMoves.append(\"up\")\n",
    "\n",
    "    if yPos < 3:\n",
    "        myMoves.append(\"down\")\n",
    "\n",
    "    return myMoves\n",
    "\n",
    "def printPath_8p(startState, goalState, myPath):\n",
    "    printState_8p(startState)\n",
    "    print(\"to\")\n",
    "    printState_8p(goalState)\n",
    "    print(\"is {} nodes long\".format(len(myPath)))\n",
    "    print()\n",
    "    for myMoves in myPath:\n",
    "      printState_8p(myMoves)\n",
    "      print()\n",
    "        \n",
    "def printPath_15p(startState, goalState, myPath): #print a solution path in a readable form. You choose the format.\n",
    "    printState_15p(startState)\n",
    "    print(\"to\")\n",
    "    printState_15p(goalState)\n",
    "    print(\"is {} nodes long\".format(len(myPath)))\n",
    "    print()\n",
    "    for myMoves in myPath:\n",
    "        printState_15p(myMoves)\n",
    "        print()\n",
    "\n",
    "def takeActionF_8p(startState, move):\n",
    "     # get coord of my current position\n",
    "    myEmptyCoord = findBlank_8p(startState)\n",
    "    yPos = myEmptyCoord[0]\n",
    "    xPos = myEmptyCoord[1]\n",
    "    if yPos == 0:\n",
    "        rowOffset = xPos\n",
    "    if yPos == 1:\n",
    "        rowOffset = xPos + 3\n",
    "    if yPos == 2:\n",
    "        rowOffset = xPos + 6\n",
    "\n",
    "    startStateCopy = startState.copy()\n",
    "    if move is \"left\":\n",
    "        tmp = startStateCopy[rowOffset]\n",
    "        startStateCopy[rowOffset] =  startStateCopy[rowOffset - 1]\n",
    "        startStateCopy[rowOffset - 1] = tmp\n",
    "\n",
    "    if move is \"right\":\n",
    "        tmp = startStateCopy[rowOffset]\n",
    "        startStateCopy[rowOffset] = startStateCopy[rowOffset + 1]\n",
    "        startStateCopy[rowOffset + 1] = tmp\n",
    "\n",
    "    if move is \"up\":\n",
    "        tmp = startStateCopy[rowOffset]\n",
    "        startStateCopy[rowOffset] =  startStateCopy[rowOffset - 3]\n",
    "        startStateCopy[rowOffset - 3] = tmp\n",
    "\n",
    "    if move is \"down\":\n",
    "        #print(\"here\")\n",
    "        tmp = startStateCopy[rowOffset]\n",
    "        startStateCopy[rowOffset] =  startStateCopy[rowOffset + 3]\n",
    "        startStateCopy[rowOffset + 3] = tmp\n",
    "\n",
    "    return startStateCopy\n",
    "\n",
    "def takeActionF_15p(startState, move):\n",
    "    # get coord of my current position\n",
    "    myEmptyCoord = findBlank_15p(startState)\n",
    "    #print(\"here\", myEmptyCoord)\n",
    "    yPos = myEmptyCoord[0]\n",
    "    xPos = myEmptyCoord[1]\n",
    "    if yPos == 0:\n",
    "        rowOffset = xPos\n",
    "    if yPos == 1:\n",
    "        rowOffset = xPos + 4\n",
    "    if yPos == 2:\n",
    "        rowOffset = xPos + 8\n",
    "    if yPos == 3:\n",
    "        rowOffset = xPos + 12\n",
    "\n",
    "    startStateCopy = startState.copy()\n",
    "    if move is \"left\":\n",
    "        tmp = startStateCopy[rowOffset]\n",
    "        startStateCopy[rowOffset] =  startStateCopy[rowOffset - 1]\n",
    "        startStateCopy[rowOffset - 1] = tmp\n",
    "\n",
    "    if move is \"right\":\n",
    "        tmp = startStateCopy[rowOffset]\n",
    "        startStateCopy[rowOffset] = startStateCopy[rowOffset + 1]\n",
    "        startStateCopy[rowOffset + 1] = tmp\n",
    "\n",
    "    if move is \"up\":\n",
    "        tmp = startStateCopy[rowOffset]\n",
    "        startStateCopy[rowOffset] =  startStateCopy[rowOffset - 3]\n",
    "        startStateCopy[rowOffset - 4] = tmp\n",
    "\n",
    "    if move is \"down\":\n",
    "        #print(\"here\")\n",
    "        tmp = startStateCopy[rowOffset]\n",
    "        startStateCopy[rowOffset] =  startStateCopy[rowOffset + 3]\n",
    "        startStateCopy[rowOffset + 4] = tmp\n",
    "\n",
    "    return startStateCopy\n",
    "\n",
    "def depthLimitedSearch(startState, goalState, actionsF, takeActionF, moveLimit):\n",
    "    if startState == goalState:\n",
    "        #print(\"baseCase hit\")\n",
    "        #printState_8p(goalState)\n",
    "        #print(\"-----------------------------\")\n",
    "        return []\n",
    "    if moveLimit == 0:\n",
    "        #print(\"moveLimit hit\")\n",
    "        return \"cutoff\"\n",
    "\n",
    "    limitReached = False\n",
    "\n",
    "   # print(\"movement choices: \", actionsF(startState))\n",
    "\n",
    "    for myMove in actionsF(startState):\n",
    "        myNewState = takeActionF(startState, myMove)\n",
    "\n",
    "        #print(\"iterative move: \", myMove)\n",
    "\n",
    "        myResult = depthLimitedSearch(myNewState, goalState, actionsF, takeActionF, moveLimit - 1)\n",
    "\n",
    "        #print(\"recursive move: \", myMove, myResult, \"printing current state...\")\n",
    "        #if len(myResult) != 0:\n",
    "                #printState_8p(myNewState)\n",
    "                #print(\"-----------------------------\")\n",
    "\n",
    "        if myResult == \"cutoff\":\n",
    "            limitReached = True\n",
    "\n",
    "        # add recursive moves to the results\n",
    "        else:\n",
    "            myResult.insert(0, myNewState)\n",
    "            return myResult\n",
    "        #--------------------------->\n",
    "\n",
    "    if limitReached:\n",
    "        return \"cutoff\"\n",
    "    \n",
    "    \n",
    "def iterativeDeepeningSearch(startState, goalState, actionsF, takeActionF, myDepth):\n",
    "    #set range of recusive searching and pass it as a depthLimitedSearch parameter\n",
    "    for moveLimit in range(myDepth):\n",
    "        myResult = depthLimitedSearch(startState, goalState, actionsF, takeActionF, moveLimit)\n",
    "\n",
    "        #check if base case is returned\n",
    "        if myResult is not 'cutoff':\n",
    "            #print(\"base case hit\")\n",
    "            myResult.insert(0, startState)\n",
    "            return myResult\n",
    "\n",
    "    return \"cutoff\""
   ]
  },
  {
   "cell_type": "markdown",
   "metadata": {},
   "source": [
    "Here are some example results."
   ]
  },
  {
   "cell_type": "code",
   "execution_count": 14,
   "metadata": {},
   "outputs": [],
   "source": [
    "startState = [1, 0, 3, 4, 2, 5, 6, 7, 8]"
   ]
  },
  {
   "cell_type": "code",
   "execution_count": 15,
   "metadata": {},
   "outputs": [
    {
     "name": "stdout",
     "output_type": "stream",
     "text": [
      "1 - 3\n",
      "4 2 5\n",
      "6 7 8\n"
     ]
    }
   ],
   "source": [
    "printState_8p(startState)  # not a required function for this assignment, but it helps when implementing printPath_8p"
   ]
  },
  {
   "cell_type": "code",
   "execution_count": 16,
   "metadata": {},
   "outputs": [
    {
     "data": {
      "text/plain": [
       "(0, 1)"
      ]
     },
     "execution_count": 16,
     "metadata": {},
     "output_type": "execute_result"
    }
   ],
   "source": [
    "findBlank_8p(startState)"
   ]
  },
  {
   "cell_type": "code",
   "execution_count": 17,
   "metadata": {},
   "outputs": [
    {
     "data": {
      "text/plain": [
       "['left', 'right', 'down']"
      ]
     },
     "execution_count": 17,
     "metadata": {},
     "output_type": "execute_result"
    }
   ],
   "source": [
    "actionsF_8p(startState)"
   ]
  },
  {
   "cell_type": "code",
   "execution_count": 18,
   "metadata": {},
   "outputs": [
    {
     "data": {
      "text/plain": [
       "[1, 2, 3, 4, 0, 5, 6, 7, 8]"
      ]
     },
     "execution_count": 18,
     "metadata": {},
     "output_type": "execute_result"
    }
   ],
   "source": [
    "takeActionF_8p(startState, 'down')"
   ]
  },
  {
   "cell_type": "code",
   "execution_count": 19,
   "metadata": {},
   "outputs": [
    {
     "name": "stdout",
     "output_type": "stream",
     "text": [
      "1 2 3\n",
      "4 - 5\n",
      "6 7 8\n"
     ]
    }
   ],
   "source": [
    "printState_8p(takeActionF_8p(startState, 'down'))"
   ]
  },
  {
   "cell_type": "code",
   "execution_count": 20,
   "metadata": {},
   "outputs": [],
   "source": [
    "goalState = takeActionF_8p(startState, 'down')"
   ]
  },
  {
   "cell_type": "code",
   "execution_count": 21,
   "metadata": {},
   "outputs": [],
   "source": [
    "newState = takeActionF_8p(startState, 'down')"
   ]
  },
  {
   "cell_type": "code",
   "execution_count": 22,
   "metadata": {},
   "outputs": [
    {
     "data": {
      "text/plain": [
       "True"
      ]
     },
     "execution_count": 22,
     "metadata": {},
     "output_type": "execute_result"
    }
   ],
   "source": [
    "newState == goalState"
   ]
  },
  {
   "cell_type": "code",
   "execution_count": 23,
   "metadata": {},
   "outputs": [
    {
     "data": {
      "text/plain": [
       "[1, 0, 3, 4, 2, 5, 6, 7, 8]"
      ]
     },
     "execution_count": 23,
     "metadata": {},
     "output_type": "execute_result"
    }
   ],
   "source": [
    "startState"
   ]
  },
  {
   "cell_type": "code",
   "execution_count": 24,
   "metadata": {
    "scrolled": true
   },
   "outputs": [
    {
     "data": {
      "text/plain": [
       "[[0, 1, 3, 4, 2, 5, 6, 7, 8],\n",
       " [1, 0, 3, 4, 2, 5, 6, 7, 8],\n",
       " [1, 2, 3, 4, 0, 5, 6, 7, 8]]"
      ]
     },
     "execution_count": 24,
     "metadata": {},
     "output_type": "execute_result"
    }
   ],
   "source": [
    "path = depthLimitedSearch(startState, goalState, actionsF_8p, takeActionF_8p, 3)\n",
    "path"
   ]
  },
  {
   "cell_type": "markdown",
   "metadata": {},
   "source": [
    "Notice that `depthLimitedSearch` result is missing the start state.  This is inserted by `iterativeDeepeningSearch`.\n",
    "\n",
    "But, when we try `iterativeDeepeningSearch` to do the same search, it finds a shorter path!"
   ]
  },
  {
   "cell_type": "code",
   "execution_count": 25,
   "metadata": {
    "scrolled": true
   },
   "outputs": [
    {
     "data": {
      "text/plain": [
       "[[1, 0, 3, 4, 2, 5, 6, 7, 8], [1, 2, 3, 4, 0, 5, 6, 7, 8]]"
      ]
     },
     "execution_count": 25,
     "metadata": {},
     "output_type": "execute_result"
    }
   ],
   "source": [
    "path = iterativeDeepeningSearch(startState, goalState, actionsF_8p, takeActionF_8p, 3)\n",
    "path"
   ]
  },
  {
   "cell_type": "markdown",
   "metadata": {},
   "source": [
    "Also notice that the successor states are lists, not tuples."
   ]
  },
  {
   "cell_type": "code",
   "execution_count": 26,
   "metadata": {},
   "outputs": [
    {
     "data": {
      "text/plain": [
       "'cutoff'"
      ]
     },
     "execution_count": 26,
     "metadata": {},
     "output_type": "execute_result"
    }
   ],
   "source": [
    "startState = [4, 7, 2, 1, 6, 5, 0, 3, 8]\n",
    "path = iterativeDeepeningSearch(startState, goalState, actionsF_8p, takeActionF_8p, 3)\n",
    "path"
   ]
  },
  {
   "cell_type": "code",
   "execution_count": 27,
   "metadata": {},
   "outputs": [
    {
     "data": {
      "text/plain": [
       "'cutoff'"
      ]
     },
     "execution_count": 27,
     "metadata": {},
     "output_type": "execute_result"
    }
   ],
   "source": [
    "startState = [4, 7, 2, 1, 6, 5, 0, 3, 8]\n",
    "path = iterativeDeepeningSearch(startState, goalState, actionsF_8p, takeActionF_8p, 5)\n",
    "path"
   ]
  },
  {
   "cell_type": "markdown",
   "metadata": {},
   "source": [
    "Humm...maybe we can't reach the goal state from this state.  We need a way to randomly generate a valid start state."
   ]
  },
  {
   "cell_type": "code",
   "execution_count": 28,
   "metadata": {},
   "outputs": [],
   "source": [
    "import random"
   ]
  },
  {
   "cell_type": "code",
   "execution_count": 17,
   "metadata": {},
   "outputs": [
    {
     "data": {
      "text/plain": [
       "'left'"
      ]
     },
     "execution_count": 17,
     "metadata": {},
     "output_type": "execute_result"
    }
   ],
   "source": [
    "random.choice(['left', 'right'])"
   ]
  },
  {
   "cell_type": "code",
   "execution_count": 18,
   "metadata": {},
   "outputs": [],
   "source": [
    "def randomStartState(goalState, actionsF, takeActionF, nSteps):\n",
    "    state = goalState\n",
    "    for i in range(nSteps):\n",
    "        state = takeActionF(state, random.choice(actionsF(state)))\n",
    "    return state"
   ]
  },
  {
   "cell_type": "code",
   "execution_count": 19,
   "metadata": {},
   "outputs": [
    {
     "data": {
      "text/plain": [
       "[1, 2, 3, 4, 8, 7, 6, 5, 0]"
      ]
     },
     "execution_count": 19,
     "metadata": {},
     "output_type": "execute_result"
    }
   ],
   "source": [
    "goalState = [1, 2, 3, 4, 0, 5, 6, 7, 8]\n",
    "randomStartState(goalState, actionsF_8p, takeActionF_8p, 10)"
   ]
  },
  {
   "cell_type": "code",
   "execution_count": 20,
   "metadata": {},
   "outputs": [
    {
     "data": {
      "text/plain": [
       "[4, 1, 3, 2, 8, 7, 6, 5, 0]"
      ]
     },
     "execution_count": 20,
     "metadata": {},
     "output_type": "execute_result"
    }
   ],
   "source": [
    "startState = randomStartState(goalState, actionsF_8p, takeActionF_8p, 50)\n",
    "startState"
   ]
  },
  {
   "cell_type": "code",
   "execution_count": 21,
   "metadata": {},
   "outputs": [
    {
     "data": {
      "text/plain": [
       "[[4, 1, 3, 2, 8, 7, 6, 5, 0],\n",
       " [4, 1, 3, 2, 8, 7, 6, 0, 5],\n",
       " [4, 1, 3, 2, 0, 7, 6, 8, 5],\n",
       " [4, 1, 3, 0, 2, 7, 6, 8, 5],\n",
       " [0, 1, 3, 4, 2, 7, 6, 8, 5],\n",
       " [1, 0, 3, 4, 2, 7, 6, 8, 5],\n",
       " [1, 2, 3, 4, 0, 7, 6, 8, 5],\n",
       " [1, 2, 3, 4, 7, 0, 6, 8, 5],\n",
       " [1, 2, 3, 4, 7, 5, 6, 8, 0],\n",
       " [1, 2, 3, 4, 7, 5, 6, 0, 8],\n",
       " [1, 2, 3, 4, 0, 5, 6, 7, 8]]"
      ]
     },
     "execution_count": 21,
     "metadata": {},
     "output_type": "execute_result"
    }
   ],
   "source": [
    "path = iterativeDeepeningSearch(startState, goalState, actionsF_8p, takeActionF_8p, 20)\n",
    "path"
   ]
  },
  {
   "cell_type": "markdown",
   "metadata": {},
   "source": [
    "Let's print out the state sequence in a readable form."
   ]
  },
  {
   "cell_type": "code",
   "execution_count": 22,
   "metadata": {},
   "outputs": [
    {
     "name": "stdout",
     "output_type": "stream",
     "text": [
      "4 1 3\n",
      "2 8 7\n",
      "6 5 -\n",
      "\n",
      "4 1 3\n",
      "2 8 7\n",
      "6 - 5\n",
      "\n",
      "4 1 3\n",
      "2 - 7\n",
      "6 8 5\n",
      "\n",
      "4 1 3\n",
      "- 2 7\n",
      "6 8 5\n",
      "\n",
      "- 1 3\n",
      "4 2 7\n",
      "6 8 5\n",
      "\n",
      "1 - 3\n",
      "4 2 7\n",
      "6 8 5\n",
      "\n",
      "1 2 3\n",
      "4 - 7\n",
      "6 8 5\n",
      "\n",
      "1 2 3\n",
      "4 7 -\n",
      "6 8 5\n",
      "\n",
      "1 2 3\n",
      "4 7 5\n",
      "6 8 -\n",
      "\n",
      "1 2 3\n",
      "4 7 5\n",
      "6 - 8\n",
      "\n",
      "1 2 3\n",
      "4 - 5\n",
      "6 7 8\n",
      "\n"
     ]
    }
   ],
   "source": [
    "for p in path:\n",
    "    printState_8p(p)\n",
    "    print()"
   ]
  },
  {
   "cell_type": "markdown",
   "metadata": {},
   "source": [
    "Here is one way to format the search problem and solution in a readable form."
   ]
  },
  {
   "cell_type": "code",
   "execution_count": 23,
   "metadata": {},
   "outputs": [
    {
     "name": "stdout",
     "output_type": "stream",
     "text": [
      "4 1 3\n",
      "2 8 7\n",
      "6 5 -\n",
      "to\n",
      "1 2 3\n",
      "4 - 5\n",
      "6 7 8\n",
      "is 11 nodes long\n",
      "\n",
      "4 1 3\n",
      "2 8 7\n",
      "6 5 -\n",
      "\n",
      "4 1 3\n",
      "2 8 7\n",
      "6 - 5\n",
      "\n",
      "4 1 3\n",
      "2 - 7\n",
      "6 8 5\n",
      "\n",
      "4 1 3\n",
      "- 2 7\n",
      "6 8 5\n",
      "\n",
      "- 1 3\n",
      "4 2 7\n",
      "6 8 5\n",
      "\n",
      "1 - 3\n",
      "4 2 7\n",
      "6 8 5\n",
      "\n",
      "1 2 3\n",
      "4 - 7\n",
      "6 8 5\n",
      "\n",
      "1 2 3\n",
      "4 7 -\n",
      "6 8 5\n",
      "\n",
      "1 2 3\n",
      "4 7 5\n",
      "6 8 -\n",
      "\n",
      "1 2 3\n",
      "4 7 5\n",
      "6 - 8\n",
      "\n",
      "1 2 3\n",
      "4 - 5\n",
      "6 7 8\n",
      "\n"
     ]
    }
   ],
   "source": [
    "printPath_8p(startState, goalState, path)"
   ]
  },
  {
   "cell_type": "markdown",
   "metadata": {},
   "source": [
    "# Functions\n",
    "\n",
    "depthLimitedSearch start at a certain node and depth first search down until finding new nodes until you reach a point where there are no new nodes to explore. Each path backtracks to previous nodes inorder to make different choices and explore the depth of that new choice. \n",
    "\n",
    "iterativeDeepeningSearch searches with increasing lengths, this is kinda like BFS  \n"
   ]
  },
  {
   "cell_type": "markdown",
   "metadata": {},
   "source": [
    "# Observations\n",
    "\n",
    "depthLimitedSearch can be a problem because it might end up exploring the entire graph\n",
    "\n",
    "iterativeDeepeningSearch does searches with a increasing depth, this means we have a chance to find the target node sooner with a optimal path\n",
    "\n"
   ]
  },
  {
   "cell_type": "markdown",
   "metadata": {},
   "source": [
    "Download [A2grader.tar](A2grader.tar) and extract A2grader.py from it."
   ]
  },
  {
   "cell_type": "code",
   "execution_count": 24,
   "metadata": {},
   "outputs": [
    {
     "name": "stdout",
     "output_type": "stream",
     "text": [
      "\n",
      "======================= Code Execution =======================\n",
      "\n",
      "Extracting python code from notebook named 'Lynn-A2.ipynb' and storing in notebookcode.py\n",
      "Removing all statements that are not function or class defs or import statements.\n",
      "\n",
      "Searching this graph:\n",
      " {'a': ['b', 'z', 'd'], 'b': ['a'], 'e': ['z'], 'd': ['y'], 'y': ['z']}\n",
      "\n",
      "Looking for path from a to y with max depth of 1.\n",
      " 5/ 5 points. Your search correctly returned cutoff\n",
      "\n",
      "Looking for path from a to z with max depth of 5.\n",
      "10/10 points. Your search correctly returned ['a', 'z']\n",
      "\n",
      "Testing findBlank_8p([1, 2, 3, 4, 5, 6, 7, 0, 8])\n",
      " 5/ 5 points. Your findBlank_8p correctly returned 2 1\n",
      "\n",
      "Testing actionsF_8p([1, 2, 3, 4, 5, 6, 7, 0, 8])\n",
      "10/10 points. Your actionsF_8p correctly returned ['left', 'right', 'up']\n",
      "\n",
      "Testing takeActionF_8p([1, 2, 3, 4, 5, 6, 7, 0, 8],up)\n",
      "10/10 points. Your takeActionsF_8p correctly returned [1, 2, 3, 4, 0, 6, 7, 5, 8]\n",
      "\n",
      "Testing iterativeDeepeningSearch([1, 2, 3, 4, 5, 6, 7, 0, 8],[0, 2, 3, 1, 4,  6, 7, 5, 8], actionsF_8p, takeActionF_8p, 5)\n",
      "20/20 points. Your search correctly returned [[1, 2, 3, 4, 5, 6, 7, 0, 8], [1, 2, 3, 4, 0, 6, 7, 5, 8], [1, 2, 3, 0, 4, 6, 7, 5, 8], [0, 2, 3, 1, 4, 6, 7, 5, 8]]\n",
      "\n",
      "Testing iterativeDeepeningSearch([5, 2, 8, 0, 1, 4, 3, 7, 6], [0, 2, 3, 1, 4,  6, 7, 5, 8], actionsF_8p, takeActionF_8p, 10)\n",
      "20/20 points. Your search correctly returned cutoff\n",
      "\n",
      "C:\\Users\\hailviral1\\Desktop\\cs440 Grade is 80/80\n",
      "\n",
      "Up to 20 more points will be given based on the quality of your descriptions of the method and the results.\n"
     ]
    }
   ],
   "source": [
    "%run -i A2grader.py"
   ]
  },
  {
   "cell_type": "markdown",
   "metadata": {
    "collapsed": true
   },
   "source": [
    "## Extra Credit\n",
    "\n",
    "For extra credit, apply your solution to the grid example in Assignment 1 with the addition of a horizontal and vertical barrier at least three positions long.  Demonstrate the solutions found in four different pairs of start and goal states."
   ]
  },
  {
   "cell_type": "markdown",
   "metadata": {},
   "source": [
    "# 15 puzzle execution\n",
    "\n"
   ]
  },
  {
   "cell_type": "code",
   "execution_count": 36,
   "metadata": {},
   "outputs": [
    {
     "name": "stdout",
     "output_type": "stream",
     "text": [
      "['left', 'right', 'down']\n"
     ]
    }
   ],
   "source": [
    "startState15 = [1,2,0,3,4,5,6,7,8,9,10,11,12,13,14,15]\n",
    "goalState15 =  [1,2,5,3,4,5,0,7,8,9,10,11,12,13,14,15]\n",
    "print(actionsF_15p(startState15))"
   ]
  },
  {
   "cell_type": "code",
   "execution_count": 37,
   "metadata": {},
   "outputs": [
    {
     "name": "stdout",
     "output_type": "stream",
     "text": [
      "[[1, 2, 0, 3, 4, 5, 6, 7, 8, 9, 10, 11, 12, 13, 14, 15], [1, 2, 5, 3, 4, 5, 0, 7, 8, 9, 10, 11, 12, 13, 14, 15]]\n"
     ]
    }
   ],
   "source": [
    "path = iterativeDeepeningSearch(startState15, goalState15, actionsF_15p, takeActionF_15p, 15)\n",
    "print(path)"
   ]
  },
  {
   "cell_type": "code",
   "execution_count": 38,
   "metadata": {},
   "outputs": [
    {
     "name": "stdout",
     "output_type": "stream",
     "text": [
      "1 2 - 3\n",
      "4 5 6 7\n",
      "8 9 10 11\n",
      "12 13 14 15\n",
      "to\n",
      "1 2 5 3\n",
      "4 5 - 7\n",
      "8 9 10 11\n",
      "12 13 14 15\n",
      "is 2 nodes long\n",
      "\n",
      "1 2 - 3\n",
      "4 5 6 7\n",
      "8 9 10 11\n",
      "12 13 14 15\n",
      "\n",
      "1 2 5 3\n",
      "4 5 - 7\n",
      "8 9 10 11\n",
      "12 13 14 15\n",
      "\n"
     ]
    }
   ],
   "source": [
    " printPath_15p(startState15,goalState15,path)"
   ]
  },
  {
   "cell_type": "code",
   "execution_count": null,
   "metadata": {},
   "outputs": [],
   "source": []
  },
  {
   "cell_type": "code",
   "execution_count": null,
   "metadata": {},
   "outputs": [],
   "source": []
  }
 ],
 "metadata": {
  "anaconda-cloud": {},
  "kernelspec": {
   "display_name": "Python 3",
   "language": "python",
   "name": "python3"
  },
  "language_info": {
   "codemirror_mode": {
    "name": "ipython",
    "version": 3
   },
   "file_extension": ".py",
   "mimetype": "text/x-python",
   "name": "python",
   "nbconvert_exporter": "python",
   "pygments_lexer": "ipython3",
   "version": "3.6.5"
  }
 },
 "nbformat": 4,
 "nbformat_minor": 1
}
